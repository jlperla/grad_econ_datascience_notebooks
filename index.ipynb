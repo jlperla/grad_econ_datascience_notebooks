{
  "cells": [
    {
      "cell_type": "markdown",
      "metadata": {},
      "source": [
        "# Slides\n",
        "\n",
        "See [setup](pages/setup.qmd) for installation instructions.\n",
        "\n",
        "# Slides\n",
        "\n",
        "# Other Formats"
      ],
      "id": "ea746a65-ffa8-4bef-a589-804193072f2d"
    }
  ],
  "nbformat": 4,
  "nbformat_minor": 5,
  "metadata": {
    "kernelspec": {
      "display_name": "Python 3",
      "language": "python",
      "name": "python3"
    }
  }
}