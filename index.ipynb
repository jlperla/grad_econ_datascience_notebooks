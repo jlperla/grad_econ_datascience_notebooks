{
  "cells": [
    {
      "cell_type": "markdown",
      "metadata": {},
      "source": [
        "# Slides\n",
        "\n",
        "See [setup](pages/setup.qmd) for installation instructions.\n",
        "\n",
        "# Slides\n",
        "\n",
        "# Other Formats"
      ],
      "id": "a252dc8f-2f45-40c2-a0e8-c3b59530079f"
    }
  ],
  "nbformat": 4,
  "nbformat_minor": 5,
  "metadata": {
    "kernelspec": {
      "display_name": "Python 3",
      "language": "python",
      "name": "python3"
    }
  }
}