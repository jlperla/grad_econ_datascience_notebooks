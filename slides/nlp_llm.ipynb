{
  "cells": [
    {
      "cell_type": "markdown",
      "metadata": {},
      "source": [
        "# Natural Language Processing and Large Language Models\n",
        "\n",
        "Graduate Quantitative Economics and Datascience\n",
        "\n",
        "Jesse Perla (University of British Columbia)\n",
        "\n",
        "# Overview\n",
        "\n",
        "## Summary\n",
        "\n",
        "-   Discuss text, NLP, and other embeddings\n",
        "-   Relate embeddings to transformations like PCA\n",
        "-   Use LLMs via the LangChain package\n",
        "\n",
        "## References\n",
        "\n",
        "-   These notes are a bare-bones introduction. See references for more\n",
        "-   See Melissa Dell’s Survey [Deep Learning for\n",
        "    Economists](https://arxiv.org/abs/2407.15339) and\n",
        "    [Course](https://econdl.github.io/)\n",
        "    -   [Topic and Sentiment\n",
        "        Classification](https://econdl.github.io/intro/2023/03/22/lecture14.html)\n",
        "    -   [Semantic and Syntactic\n",
        "        Similarity](https://econdl.github.io/intro/2023/03/02/lecture11.html)\n",
        "\n",
        "## API Options for LLMs\n",
        "\n",
        "-   There are many ways to access these tools, including vendor-specific\n",
        "    APIs and those which wrap things in as much of a cross-vendor way as\n",
        "    possible\n",
        "-   A big variation is between LLMs that are hosted and ones that run\n",
        "    locally.\n",
        "-   Local use of LLM/NLP is often facilitated by the package [Hugging\n",
        "    Face Transformers](https://huggingface.co/docs/transformers/index)\n",
        "    -   We will not use this approach here because it requires far more\n",
        "        background, but if you are serious this is useful to know about\n",
        "-   Remote use of LLMs can be done with\n",
        "    -   Vendor specific APIs: e.g.,\n",
        "        [OpenAI](https://platform.openai.com/docs/introduction)\n",
        "    -   Cross-vendor packages: e.g.,\n",
        "        [LangChain](https://python.langchain.com/docs/get_started/introduction.html)\n",
        "        which calls out to OpenAI/Gemini/etc.\n",
        "\n",
        "## Packages\n",
        "\n",
        "-   For this introduction, we will use\n",
        "    [LangChain](https://python.langchain.com/docs/get_started/introduction.html)\n",
        "    to call out to OpenAI"
      ],
      "id": "d32b708c-c0e0-49c9-8ca8-612092f108b2"
    },
    {
      "cell_type": "code",
      "execution_count": 1,
      "metadata": {},
      "outputs": [],
      "source": [
        "from sklearn.manifold import TSNE\n",
        "import matplotlib.pyplot as plt\n",
        "import numpy as np\n",
        "import tiktoken\n",
        "from langchain_openai import ChatOpenAI, OpenAIEmbeddings\n",
        "from langchain_core.messages import SystemMessage, HumanMessage, AIMessage"
      ],
      "id": "6cfc3d5a"
    },
    {
      "cell_type": "markdown",
      "metadata": {},
      "source": [
        "## OpenAI via LangChain\n",
        "\n",
        "-   Sign up for the [OpenAI Platform](https://platform.openai.com/)\n",
        "    -   Sometimes it is free for a limited number of tokens. See\n",
        "        [pricing](https://openai.com/api/pricing/) for more\n",
        "-   Go to the `API keys` tab and create a key\n",
        "-   In your terminal, set `OPENAI_API_KEY` to this value (see\n",
        "    [here](https://platform.openai.com/docs/quickstart?desktop-os=macOS#create-and-export-an-api-key))\n",
        "\n",
        "## Creating the LangChain API\n",
        "\n",
        "-   Instantiate models once (LangChain will pick up `OPENAI_API_KEY`\n",
        "    from environment variable)\n",
        "-   The `model=` might be chosen for speed, cost, etc.\n",
        "-   Temperature is how random to make the output (0 = deterministic).\n",
        "    Will discuss more later."
      ],
      "id": "88471f43-0f89-46e6-bbe0-91cc805af072"
    },
    {
      "cell_type": "code",
      "execution_count": 2,
      "metadata": {},
      "outputs": [],
      "source": [
        "openai_embedding_model = \"text-embedding-3-large\"\n",
        "openai_chat_model = \"gpt-4o-mini\"\n",
        "llm = ChatOpenAI(model=openai_chat_model, temperature=0.7)\n",
        "embedder = OpenAIEmbeddings(model=openai_embedding_model)"
      ],
      "id": "8ff21e17"
    },
    {
      "cell_type": "markdown",
      "metadata": {},
      "source": [
        "# Tokens, Vocabulary, and Corpus\n",
        "\n",
        "## Tokens and Vocabulary\n",
        "\n",
        "-   We can define a **vocabulary** of $K$ possible “tokens” enumerated\n",
        "    $k = 1, \\ldots, K$\n",
        "    -   For NLP, this might be common words, parts of words, and\n",
        "        characters.\n",
        "    -   The vocabulary is model and sometimes application specific\n",
        "-   A **splitter** will take an input and break it into pieces\n",
        "    -   e.g., take a sentence and split on the whitespace\n",
        "-   A **tokenizer** will take an input and map it into a sequence of\n",
        "    token indices\n",
        "    -   e.g., take a sentence, split on the spaces, and then map to\n",
        "        tokens in the vocabulary\n",
        "-   The **corpus** is the set of text/etc. you use\n",
        "    -   In specialized cases you might want to build a custom vocabulary\n",
        "        based on how common certain words are in your corpus\n",
        "\n",
        "## Example with OpenAI Tokens\n",
        "\n",
        "-   When using LLMs this sometimes happens in the background, but other\n",
        "    times you may need more manual control\n",
        "-   We can use a package to reverse-engineer what OpenAI does under the\n",
        "    hood.\n",
        "    -   Splits on whitespace, tokens may be whole words, subwords, or\n",
        "        characters"
      ],
      "id": "01e45a35-6682-40a4-abdb-7fb7dbe52c22"
    },
    {
      "cell_type": "code",
      "execution_count": 3,
      "metadata": {},
      "outputs": [
        {
          "output_type": "stream",
          "name": "stdout",
          "text": [
            "Tokens in vocabulary for text-embedding-3-large: 100277\n",
            "'Hello world' -> [9906, 1917]\n",
            "'hello world' -> [15339, 1917]\n",
            "'hello world 67' -> [15339, 1917, 220, 3080]"
          ]
        }
      ],
      "source": [
        "enc = tiktoken.encoding_for_model(openai_embedding_model)\n",
        "print(f\"Tokens in vocabulary for {openai_embedding_model}: {enc.n_vocab}\")\n",
        "print(f\"'Hello world' -> {enc.encode('Hello world')}\")\n",
        "print(f\"'hello world' -> {enc.encode('hello world')}\")\n",
        "print(f\"'hello world 67' -> {enc.encode('hello world 67')}\")"
      ],
      "id": "377a0ee1"
    },
    {
      "cell_type": "markdown",
      "metadata": {},
      "source": [
        "## Tasks with Tokens\n",
        "\n",
        "-   Most tasks in NLP involve working with these tokenized inputs. For\n",
        "    example,\n",
        "    -   Simple counts of tokens (e.g., bag of words) for comparison\n",
        "    -   Using a sequence of tokens as input to a model to predict the\n",
        "        next token (or missing tokens)\n",
        "    -   Mapping a sequence of tokens into an embedding of the entire\n",
        "        sequence for similarity/classification/etc.\n",
        "-   Not specific to text though. Can use with any sequence of discrete\n",
        "    or discretized outcomes\n",
        "\n",
        "## Embedding a Token\n",
        "\n",
        "-   The ordering of the tokens from $k = 1, \\ldots, K$ is arbitrary\n",
        "-   However, we can assign a real-valued vector to each token\n",
        "    -   This is called an **embedding** of the token and could capture\n",
        "        things like conceptual similarity between them, etc.\n",
        "    -   The real-valued vectors can then be clustered, classified, etc.\n",
        "\n",
        "# Embeddings\n",
        "\n",
        "## What is an Embedding?"
      ],
      "id": "51378286-c8df-4e57-b70b-33d1531af34d"
    },
    {
      "cell_type": "code",
      "execution_count": 4,
      "metadata": {},
      "outputs": [
        {
          "output_type": "stream",
          "name": "stdout",
          "text": [
            "- An embedding is a dense vector representation of objects (like words, sentences, or images) in a continuous vector space, designed to capture semantic relationships and similarities.\n",
            "- It converts high-dimensional data into lower-dimensional space while preserving essential features, often used in natural language processing and machine learning tasks for improved performance and interpretability."
          ]
        }
      ],
      "source": [
        "resp = llm.invoke([\n",
        "    SystemMessage(content=\"You provide 2 short bullet points, technical answers.\"),\n",
        "    HumanMessage(content=\"What is an embedding?\")\n",
        "])\n",
        "resp_text = resp.content\n",
        "print(resp_text)"
      ],
      "id": "47c9c322"
    },
    {
      "cell_type": "markdown",
      "metadata": {},
      "source": [
        "## Detour into OpenAI (via LangChain)\n",
        "\n",
        "-   Our code uses LangChain message objects to call OpenAI under the\n",
        "    hood.\n",
        "-   Message roles in LangChain and their OpenAI mapping:\n",
        "    -   `SystemMessage` → OpenAI “system” role (sets\n",
        "        behavior/instructions)\n",
        "    -   `HumanMessage` → OpenAI “user” role (your prompt/query)\n",
        "    -   `AIMessage` → OpenAI “assistant” role (model responses)\n",
        "-   When building a conversation, you pass the entire message history\n",
        "    (system + user + assistant) to the model each time; the model\n",
        "    conditions on this full context.\n",
        "\n",
        "## LLMs are Stateless\n",
        "\n",
        "-   When you call `llm.invoke([...])` and related APIs you pass the\n",
        "    entire history of the conversation each time.\n",
        "-   This lets the model condition on the entire history to have\n",
        "    history-contingent answers, and means it does not keep around a\n",
        "    “state” or “memory” of the conversation.\n",
        "\n",
        "## Followup: What does it have to do with Latent Spaces?"
      ],
      "id": "4bf619bc-362c-471d-a9a9-40ef33969294"
    },
    {
      "cell_type": "code",
      "execution_count": 5,
      "metadata": {},
      "outputs": [
        {
          "output_type": "stream",
          "name": "stdout",
          "text": [
            "- Embeddings can be considered as representations of data points within a latent space, which is a lower-dimensional space that captures the underlying structure and patterns of the data.\n",
            "- Latent spaces are often learned through models like autoencoders or generative adversarial networks (GANs), where embeddings serve as points in this space that facilitate tasks such as clustering, classification, or generation."
          ]
        }
      ],
      "source": [
        "resp = llm.invoke([\n",
        "    SystemMessage(content=\"You provide 2 short bullet points, technical answers.\"),\n",
        "    HumanMessage(content=\"What is an embedding?\"),\n",
        "    AIMessage(content=resp_text),\n",
        "    HumanMessage(content=\"What is the relationship to latent spaces?\")\n",
        "])\n",
        "print(resp.content)"
      ],
      "id": "889a5d80"
    },
    {
      "cell_type": "markdown",
      "metadata": {},
      "source": [
        "## Embeddings Overview\n",
        "\n",
        "-   Used loosely and inconsistently, but the spirit is the same\n",
        "-   A mapping of some $x \\in \\mathcal{X}$ to a latent space\n",
        "    $\\phi(x) \\in \\mathcal{Z}$\n",
        "-   Typically we want that $\\mathcal{Z}$ is a continuous vector space of\n",
        "    finite dimension\n",
        "    -   Crucially, we can think of distances in that space (e.g.,\n",
        "        $||\\phi(x) - \\phi(y)||$)\n",
        "-   The dimension of $\\mathcal{Z}$ may be smaller or larger than\n",
        "    $\\mathcal{X}$\n",
        "    -   If larger, typically in only small regions of the\n",
        "        higher-dimensional space.\n",
        "-   Often want to preserve norms in cases where the original space\n",
        "    itself had a norm\n",
        "    -   e.g., if $||x - y||$ is small, then $||\\phi(x) - \\phi(y)||$ is\n",
        "        small\n",
        "\n",
        "## Cosine Similarity\n",
        "\n",
        "-   Cosine similarity is the “angle” between two vectors in the\n",
        "    embedding space $z = \\phi(x)$ and $z' = \\phi(x')$ $$\n",
        "    \\mathrm{sim}(z, z') = \\frac{z \\cdot z'}{||z|| ||z'||}\n",
        "    $$\n",
        "\n",
        "## Interpretation of Cosine Similarity\n",
        "\n",
        "-   Interpretation: If $z$ and $z'$ are\n",
        "    1.  close in the embedding space, then the cosine similarity is\n",
        "        close to 1\n",
        "    2.  orthogonal, then the cosine similarity is 0\n",
        "    3.  opposite, then the cosine similarity is -1\n",
        "-   Norm comparison $||z - z'||$ instead? Works but not invariant to\n",
        "    scaling\n",
        "\n",
        "## Implementation of Cosine Similarity"
      ],
      "id": "52b420bf-88a0-466b-ade4-e3ed446709d0"
    },
    {
      "cell_type": "code",
      "execution_count": 6,
      "metadata": {},
      "outputs": [
        {
          "output_type": "stream",
          "name": "stdout",
          "text": [
            "cos_sim([1, 0], [0, 1]) = 0.0\n",
            "cos_sim([1, 0], [0, 2]) = 0.0\n",
            "cos_sim([1, 0], [1, 0]) = 1.0\n",
            "cos_sim([1, 0], [2, 0]) = 1.0\n",
            "cos_sim([1, 0], [-2, 0]) = -1.0"
          ]
        }
      ],
      "source": [
        "def cos_sim(a, b):\n",
        "  denom = np.linalg.norm(a) * np.linalg.norm(b)\n",
        "  return np.dot(a, b) / denom\n",
        "print(f\"cos_sim([1, 0], [0, 1]) = {cos_sim(np.array([1, 0]), np.array([0, 1]))}\")\n",
        "print(f\"cos_sim([1, 0], [0, 2]) = {cos_sim(np.array([1, 0]), np.array([0, 2]))}\")\n",
        "print(f\"cos_sim([1, 0], [1, 0]) = {cos_sim(np.array([1, 0]), np.array([1, 0]))}\")\n",
        "print(f\"cos_sim([1, 0], [2, 0]) = {cos_sim(np.array([1, 0]), np.array([2, 0]))}\")\n",
        "print(f\"cos_sim([1, 0], [-2, 0]) = {cos_sim(np.array([1, 0]), np.array([-2, 0]))}\")"
      ],
      "id": "ab702096"
    },
    {
      "cell_type": "markdown",
      "metadata": {},
      "source": [
        "## Using LangChain OpenAI Embeddings"
      ],
      "id": "ea2e593c-7abb-47eb-9a83-8b6dc10b83f1"
    },
    {
      "cell_type": "code",
      "execution_count": 7,
      "metadata": {},
      "outputs": [
        {
          "output_type": "stream",
          "name": "stdout",
          "text": [
            "sim(bank, banks) = 0.7882\n",
            "sim(bank, river) = 0.4143\n",
            "sim(bank, money) = 0.4347\n",
            "sim(river, money) = 0.3747"
          ]
        }
      ],
      "source": [
        "embed_bank = embedder.embed_query(\"bank\")\n",
        "embed_banks = embedder.embed_query(\"banks\")\n",
        "embed_river = embedder.embed_query(\"river\")\n",
        "embed_money = embedder.embed_query(\"money\")\n",
        "print(f\"sim(bank, banks) = {cos_sim(embed_bank, embed_banks):.4f}\")\n",
        "print(f\"sim(bank, river) = {cos_sim(embed_bank, embed_river):.4f}\")\n",
        "print(f\"sim(bank, money) = {cos_sim(embed_bank, embed_money):.4f}\")\n",
        "print(f\"sim(river, money) = {cos_sim(embed_river, embed_money):.4f}\")"
      ],
      "id": "c9ce46f8"
    },
    {
      "cell_type": "markdown",
      "metadata": {},
      "source": [
        "## Where Did the Embedding Come From?\n",
        "\n",
        "-   OpenAI’s text embeddings (e.g., `text-embedding-3-large`) are\n",
        "    trained with self-supervised objectives to produce general-purpose\n",
        "    semantic vectors.\n",
        "-   Conceptually, a representation map $\\phi(x)$ is learned so that\n",
        "    cosine similarity reflects semantic relatedness.\n",
        "-   Always check provider docs for the training objective and intended\n",
        "    use; not all embeddings are suitable for every task.\n",
        "\n",
        "# Bigger Embeddings\n",
        "\n",
        "## Bag of Words\n",
        "\n",
        "-   Words usually occur in sentences, paragraphs, etc.\n",
        "-   Instead of embedding a single word, we can embed a block of text.\n",
        "-   Simple starting point: compare the relative frequency of words\n",
        "    1.  Turn the text into blocks of tokens with unique identifiers\n",
        "    2.  Filter out tokens that are not useful (e.g., “the”, “a”, etc.)\n",
        "    3.  Count the frequency of each token\n",
        "    4.  The embedding is the vector of the frequency of each token\n",
        "-   Many issues with this, but crucially it does not capture any sense\n",
        "    of context dependent meaning of words, and is invariant to word\n",
        "    order\n",
        "\n",
        "## Sentence Embeddings with LLMs\n",
        "\n",
        "-   Encode an entire sentence into a single embedding and compare for\n",
        "    similarity"
      ],
      "id": "0ea6b246-5ce6-458c-a063-a33e691d4fbd"
    },
    {
      "cell_type": "code",
      "execution_count": 8,
      "metadata": {},
      "outputs": [
        {
          "output_type": "stream",
          "name": "stdout",
          "text": [
            "sim(e_1, e_2) = 0.5413\n",
            "sim(e_1, e_3) = 0.5225\n",
            "sim(e_2, e_3) = 0.7911"
          ]
        }
      ],
      "source": [
        "e_1 = embedder.embed_query(\"The man bites the dog\")\n",
        "e_2 = embedder.embed_query(\"The dog chased the man\")\n",
        "e_3 = embedder.embed_query(\"The man was chased by the dog\")\n",
        "print(f\"sim(e_1, e_2) = {cos_sim(e_1, e_2):.4f}\")\n",
        "print(f\"sim(e_1, e_3) = {cos_sim(e_1, e_3):.4f}\")\n",
        "print(f\"sim(e_2, e_3) = {cos_sim(e_2, e_3):.4f}\")"
      ],
      "id": "0a4e3a9a"
    },
    {
      "cell_type": "markdown",
      "metadata": {},
      "source": [
        "-   Note that the 2nd and 3rd are the most similar, and the 1st and 3rd\n",
        "    the least.\n",
        "\n",
        "## Be Cautious, Interpretation is Tricky"
      ],
      "id": "a376bdde-9e6e-4fd7-87ff-1e61f417c4a6"
    },
    {
      "cell_type": "code",
      "execution_count": 9,
      "metadata": {},
      "outputs": [
        {
          "output_type": "stream",
          "name": "stdout",
          "text": [
            "sim(e_1, e_2) = 0.5415\n",
            "sim(e_1, e_3) = 0.5227\n",
            "sim(e_2, e_3) = 0.7911\n",
            "sim(e_3, e_4) = 0.8598"
          ]
        }
      ],
      "source": [
        "e_1 = embedder.embed_query(\"The man bites the dog\")\n",
        "e_2 = embedder.embed_query(\"The dog chased the man\")\n",
        "e_3 = embedder.embed_query(\"The man was chased by the dog\")\n",
        "e_4 = embedder.embed_query(\"The man chased the dog\")\n",
        "print(f\"sim(e_1, e_2) = {cos_sim(e_1, e_2):.4f}\")\n",
        "print(f\"sim(e_1, e_3) = {cos_sim(e_1, e_3):.4f}\")\n",
        "print(f\"sim(e_2, e_3) = {cos_sim(e_2, e_3):.4f}\")\n",
        "print(f\"sim(e_3, e_4) = {cos_sim(e_3, e_4):.4f}\")"
      ],
      "id": "e8a7abd8"
    },
    {
      "cell_type": "markdown",
      "metadata": {},
      "source": [
        "-   Note that `sim(e_3, e_4) > sim(e_3, e_2)` even though they seem to\n",
        "    have the exact opposite meaning!\n",
        "-   Why? There are many embeddings (e.g. bag of words) which make these\n",
        "    close, and others where they are far apart. Hard to know without a\n",
        "    sense of how it was trained.\n",
        "\n",
        "## Clustering/Visualization\n",
        "\n",
        "-   Since embeddings provide a measure of similarity/distance, we can\n",
        "    cluster it into groups or use other tools to find interpretations\n",
        "-   There are various algorithms to cluster based on representations,\n",
        "    and find the closest elements within the set of data for a new\n",
        "    element\n",
        "-   One approach for visualization: come up with a lower-dimensional\n",
        "    embedding which approximately preserves local neighborhoods in 2D/3D\n",
        "    as in [t-SNE (t-Distributed Stochastic Neighbor\n",
        "    Embedding)](https://scikit-learn.org/stable/modules/generated/sklearn.manifold.TSNE.html)\n",
        "\n",
        "## Get Some Random Embeddings"
      ],
      "id": "2922152d-2be1-40ab-9f0d-94df76b1aafe"
    },
    {
      "cell_type": "code",
      "execution_count": 10,
      "metadata": {},
      "outputs": [
        {
          "output_type": "stream",
          "name": "stdout",
          "text": [
            "collected 49 embeddings of dimension 3072"
          ]
        }
      ],
      "source": [
        "# Sample a small list of common words and embed them via OpenAIEmbeddings\n",
        "sampled_tokens = [\n",
        "  \"bank\", \"river\", \"money\", \"finance\", \"water\", \"dog\", \"cat\", \"animal\", \"pet\", \"tree\",\n",
        "  \"forest\", \"city\", \"village\", \"road\", \"car\", \"bus\", \"train\", \"doctor\", \"nurse\", \"hospital\",\n",
        "  \"school\", \"student\", \"teacher\", \"book\", \"library\", \"music\", \"guitar\", \"piano\", \"art\", \"painting\",\n",
        "  \"computer\", \"algorithm\", \"data\", \"model\", \"economics\", \"market\", \"price\", \"inflation\", \"policy\",\n",
        "  \"riverbank\", \"beach\", \"mountain\", \"valley\", \"ocean\", \"lake\", \"software\", \"hardware\", \"network\", \"cloud\"\n",
        "]\n",
        "embeddings = embedder.embed_documents(sampled_tokens)  # list[list[float]]\n",
        "embeddings = np.array(embeddings)\n",
        "print(f\"collected {embeddings.shape[0]} embeddings of dimension {embeddings.shape[1]}\")"
      ],
      "id": "741e162d"
    },
    {
      "cell_type": "markdown",
      "metadata": {},
      "source": [
        "## Visualize with t-SNE"
      ],
      "id": "bf9bde9c-4ec1-4bea-9f9b-15df38a33abd"
    },
    {
      "cell_type": "code",
      "execution_count": 11,
      "metadata": {
        "output-location": "slide"
      },
      "outputs": [
        {
          "output_type": "display_data",
          "metadata": {},
          "data": {
            "image/png": "[encoded data removed]"
          }
        }
      ],
      "source": [
        "tsne = TSNE(n_components=2, random_state=0)  # approx with 2D embedding\n",
        "embeddings_2d = tsne.fit_transform(embeddings)\n",
        "# Plot the t-SNE results\n",
        "plt.figure()\n",
        "for i, token in enumerate(sampled_tokens):\n",
        "    x, y = embeddings_2d[i]\n",
        "    plt.scatter(x, y)\n",
        "    plt.text(x+0.1, y+0.1, token, fontsize=9)\n",
        "plt.title('t-SNE visualization of OpenAI text embeddings')\n",
        "plt.xlabel('Dimension 1')\n",
        "plt.ylabel('Dimension 2')\n",
        "plt.show()"
      ],
      "id": "8ed897f8"
    },
    {
      "cell_type": "markdown",
      "metadata": {},
      "source": [
        "# Sequential Data and Token Prediction\n",
        "\n",
        "## Distribution of Tokens\n",
        "\n",
        "-   In many cases, data has an inherent sequential ordering. e.g. time\n",
        "    series, language, etc.\n",
        "-   Consider conditional probabilities over $x_t \\in \\{1, \\ldots K\\}$.\n",
        "    Generically call these “tokens”\n",
        "-   Objects of interest: for $x_1, x_2, \\ldots, x_T$ for a sequence of\n",
        "    length $T$ sampled from some population distribution\n",
        "-   We may want to condition on the past to predict the next token,\n",
        "    condition on the entire sequence to predict missing ones, etc.\n",
        "\n",
        "## Multinomial Logit/Softmax\n",
        "\n",
        "-   Often want to map a latent space to a probability distribution over\n",
        "    $K$ outcomes\n",
        "\n",
        "-   Given a set of $K$ outcomes, define the logit/softmax mapping a\n",
        "    vector $y \\in \\mathbb{R}^K$ to a probability distribution over $K$\n",
        "    outcomes as $$\n",
        "    \\mathrm{softmax}(y)_i = \\frac{e^{y_i}}{\\sum_{j=1}^K e^{y_j}}, \\quad i = 1, \\ldots, K\n",
        "    $$\n",
        "\n",
        "-   Typically this is combined with a mapping of a latent space,\n",
        "    $z \\in \\mathbb{R}^L$, with some matrix\n",
        "    $W \\in \\mathbb{R}^{K \\times L}$ so that $\\mathrm{softmax}(W z)$ is a\n",
        "    probability distribution over $K$ outcomes\n",
        "\n",
        "    $$\n",
        "    \\mathbb{P}\\left(x = k | z\\right) = \\mathrm{softmax}(W z)_k\n",
        "    $$\n",
        "\n",
        "## Token Prediction from Conditional Probabilities\n",
        "\n",
        "-   Given a sequence $x_1, x_2, \\ldots, x_{t-1}$, model the conditional\n",
        "    distribution: $$\n",
        "    \\mathbb{P}(x_t | x_{t-1}, x_{t-2}, \\ldots, x_1)\n",
        "    $$\n",
        "    -   Where in the background these are done with marginal and\n",
        "        conditional probabilities sampling the population distribution\n",
        "-   Basic strategy for sequence models:\n",
        "    1.  Do an embedding for each token $\\phi_1(x_t)$\n",
        "    2.  Map those embeddings to some combined representation,\n",
        "        $\\phi_2(\\phi_1(x_1), \\ldots, \\phi_1(x_{t-1}))$\n",
        "    3.  Map that with $\\mathrm{softmax}$ to get probabilities over\n",
        "        $k = 1, \\ldots, K$ for $x_t$\n",
        "    4.  Fit with methods such as maximum likelihood given the\n",
        "        multinomial logit structure\n",
        "\n",
        "## Provide Conditioning Tokens in the Prompt\n",
        "\n",
        "-   See Melissa Dell’s\n",
        "    [Prompting](https://www.dropbox.com/scl/fi/e8rnp61e9mv6es455f91c/lecture_prompting.pdf?rlkey=8mj1y59l3tjod34tp5vgk8akv&e=1&dl=0)\n",
        "    lecture and [Prompts for\n",
        "    Economists](https://sites.google.com/view/lastunen/ai-for-economists?authuser=0)"
      ],
      "id": "ccfc17b3-b6be-4274-a07f-5faf7f5e29c9"
    },
    {
      "cell_type": "code",
      "execution_count": 12,
      "metadata": {
        "output-location": "slide"
      },
      "outputs": [
        {
          "output_type": "stream",
          "name": "stdout",
          "text": [
            "- An embedding is a numerical representation of objects (like words, sentences, or images) in a continuous vector space, allowing for the capture of semantic relationships and similarities between those objects.\n",
            "- This mapping typically preserves the contextual or relational properties of the data, enabling more effective machine learning tasks such as clustering, classification, or recommendation systems."
          ]
        }
      ],
      "source": [
        "resp = llm.invoke([\n",
        "    SystemMessage(content=\"You provide 2 short bullet points, technical answers.\"),\n",
        "    HumanMessage(content=\"What is an embedding?\")\n",
        "])\n",
        "resp_text = resp.content\n",
        "print(resp_text)"
      ],
      "id": "446dc9db"
    },
    {
      "cell_type": "markdown",
      "metadata": {},
      "source": [
        "## Reminder: Concatenating Results"
      ],
      "id": "d9657dce-aa3a-4f1d-8ae0-3162db6a5edd"
    },
    {
      "cell_type": "code",
      "execution_count": 13,
      "metadata": {
        "output-location": "slide"
      },
      "outputs": [
        {
          "output_type": "stream",
          "name": "stdout",
          "text": [
            "- Embeddings can be seen as a form of representation within a latent space, where the high-dimensional data is transformed into a lower-dimensional space that captures essential features and structures.\n",
            "- Latent spaces facilitate the discovery of underlying patterns and relationships in data, with embeddings serving as specific points or vectors in these spaces that represent individual instances or features."
          ]
        }
      ],
      "source": [
        "resp = llm.invoke([\n",
        "    SystemMessage(content=\"You provide 2 short bullet points, technical answers.\"),\n",
        "    HumanMessage(content=\"What is an embedding?\"),\n",
        "    AIMessage(content=resp_text),\n",
        "    HumanMessage(content=\"What is the relationship to latent spaces?\")\n",
        "])\n",
        "print(resp.content)"
      ],
      "id": "8f79ed78"
    },
    {
      "cell_type": "markdown",
      "metadata": {},
      "source": [
        "## Mental Model of Sequential Generation\n",
        "\n",
        "1.  Start with a set of tokens, $x_1, x_2, \\ldots, x_{t-1}$ (include\n",
        "    **EVERYTHING**)\n",
        "2.  Condition on those tokens to find the\n",
        "    $\\mathbb{P}(x_t | x_{t-1}, x_{t-2}, \\ldots, x_1)$ distribution\n",
        "3.  Sample from that to get the $x_t$ token\n",
        "    -   “Temperature” setting mechanically increases/decreases the\n",
        "        randomness for the logit (e.g., rescales $W z$)\n",
        "4.  Add its own generated token to the set of tokens,\n",
        "    $x_1, x_2, \\ldots, x_{t-1}, x_t$\n",
        "5.  Condition on those tokens to find the\n",
        "    $\\mathbb{P}(x_{t+1} | x_t, x_{t-1}, \\ldots, x_1)$ distribution\n",
        "6.  Repeat until it hits a special “done” token (itself predicted) or\n",
        "    reaches a maximum length\n",
        "\n",
        "## Cardinality of the Estimated Conditional Distribution\n",
        "\n",
        "-   ChatGPT and others generate text token-by-token auto-regressively\n",
        "-   No directly Markov. $K^T$ possible sequences of $K$ tokens of length\n",
        "    $T$\n",
        "-   Modest sized LLMs in 2025 might support $T=4,000$ with $K=50,000$\n",
        "    tokens\n",
        "    -   Estimating a\n",
        "        $\\mathbb{P} : 50,000 \\times 50,000^{4,000}\\to [0,1]$ conditional\n",
        "        PMF\n",
        "    -   And growing. Many recent models have supports $128k$ tokens for\n",
        "        context (i.e., conditioning) and $16k$ for “output”\n",
        "\n",
        "## How Can This Possibly Work?\n",
        "\n",
        "-   It sometimes feels like it has compressed and memorized the entire\n",
        "    internet\n",
        "-   We don’t always know the parameterization or number of tokens in the\n",
        "    training data (remember, this largely uses MLE to train) but\n",
        "    OpenAI’s GPT-3 was disclosed\n",
        "    -   The $\\mathbb{P}(\\cdot | \\cdot)$ is approximated by approximating\n",
        "        175 billion parameters\n",
        "    -   Trained on 300 billion tokens from close to a terabyte of\n",
        "        cleaned text\n",
        "-   Which is an **absurdly small amount of data** given the cardinality\n",
        "    of $\\mathbb{P}$\n",
        "    -   Paraphrasing Mikhail Belkin: this is like estimating the Library\n",
        "        of Congress with a molecule of ink."
      ],
      "id": "681564b8-f952-4522-a51f-486cf13dbb92"
    }
  ],
  "nbformat": 4,
  "nbformat_minor": 5,
  "metadata": {
    "kernelspec": {
      "name": "python3",
      "display_name": "Python 3 (ipykernel)",
      "language": "python",
      "path": "/home/runner/work/grad_econ_datascience/grad_econ_datascience/.venv/share/jupyter/kernels/python3"
    },
    "language_info": {
      "name": "python",
      "codemirror_mode": {
        "name": "ipython",
        "version": "3"
      },
      "file_extension": ".py",
      "mimetype": "text/x-python",
      "nbconvert_exporter": "python",
      "pygments_lexer": "ipython3",
      "version": "3.13.8"
    }
  }
}