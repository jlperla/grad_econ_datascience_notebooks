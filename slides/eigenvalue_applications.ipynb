{
  "cells": [
    {
      "cell_type": "markdown",
      "metadata": {},
      "source": [
        "# Applications of Linear Algebra and Eigenvalues\n",
        "\n",
        "Graduate Quantitative Economics and Datascience\n",
        "\n",
        "Jesse Perla (University of British Columbia)\n",
        "\n",
        "# Overview\n",
        "\n",
        "## Motivation and Materials\n",
        "\n",
        "-   In this lecture, we will cover some applications of the tools we\n",
        "    developed in the previous lecture\n",
        "-   The goal is to build some useful tools to sharpen your intuition on\n",
        "    linear algebra and eigenvalues/eigenvectors, and practice some basic\n",
        "    coding\n",
        "\n",
        "## Extra Materials\n",
        "\n",
        "-   Material related to: [QuantEcon\n",
        "    Python](https://python.quantecon.org/linear_algebra.html),\n",
        "    [QuantEcon Data\n",
        "    Science](https://datascience.quantecon.org/scientific/applied_linalg.html),\n",
        "    [Intro Quantitative Economics with\n",
        "    Python](https://intro.quantecon.org/)\n",
        "-   **Self-study and Optional Materials:**\n",
        "    -   [Geometric Series and Present\n",
        "        Values](https://intro.quantecon.org/geom_series.html#example-interest-rates-and-present-values)\n",
        "    -   [Portfolio\n",
        "        example](https://datascience.quantecon.org/scientific/applied_linalg.html#portfolios)\n",
        "    -   [Unemployment Dynamics\n",
        "        example](https://datascience.quantecon.org/scientific/applied_linalg.html#unemployment-dynamics)\n",
        "    -   [Supply and\n",
        "        Demand](https://intro.quantecon.org/intro_supply_demand.html)\n",
        "    -   [More on Competitive\n",
        "        Equilibrium](https://intro.quantecon.org/supply_demand_multiple_goods.html)\n",
        "\n",
        "## Packages"
      ],
      "id": "0ee77c35-2690-4ae8-b9bc-b168300e9f15"
    },
    {
      "cell_type": "code",
      "execution_count": 2,
      "metadata": {},
      "outputs": [],
      "source": [
        "import numpy as np\n",
        "import matplotlib.pyplot as plt\n",
        "import scipy\n",
        "from numpy.linalg import cond, matrix_rank, norm\n",
        "from scipy.linalg import inv, solve, det, eig, lu, eigvals\n",
        "from scipy.linalg import solve_triangular, eigvalsh, cholesky"
      ],
      "id": "7fd45949"
    },
    {
      "cell_type": "markdown",
      "metadata": {},
      "source": [
        "# Difference Equations\n",
        "\n",
        "## Linear Difference Equations as Iterative Maps\n",
        "\n",
        "-   Consider $A : \\mathbb{R}^N \\to \\mathbb{R}^N$ as the linear map for\n",
        "    the state $x_t \\in \\mathbb{R}^N$\n",
        "-   An example of a linear difference equation is $$\n",
        "    x_{t+1} = A x_t\n",
        "    $$ where\n",
        "\n",
        "$$\n",
        "A \\equiv \\begin{bmatrix}\n",
        "0.9 & 0.1 \\\\\n",
        "0.5 & 0.8 \\\\\n",
        "\\end{bmatrix}\n",
        "$$"
      ],
      "id": "5dbab22d-398b-48fd-b86a-a65502c7182c"
    },
    {
      "cell_type": "code",
      "execution_count": 3,
      "metadata": {
        "output-location": "column"
      },
      "outputs": [
        {
          "output_type": "stream",
          "name": "stdout",
          "text": [
            "x_1 = [1.  1.3], x_2 = [1.03 1.54]"
          ]
        }
      ],
      "source": [
        "A = np.array([[0.9, 0.1], [0.5, 0.8]])\n",
        "x_0 = np.array([1, 1])\n",
        "x_1 = A @ x_0\n",
        "print(f\"x_1 = {x_1}, x_2 = {A @ x_1}\")"
      ],
      "id": "f262c415"
    },
    {
      "cell_type": "markdown",
      "metadata": {},
      "source": [
        "## Iterating with $\\rho(A) > 1$\n",
        "\n",
        "Iterate $x_{t+1} = A x_t$ from $x_0$ for $t=100$"
      ],
      "id": "81678bf6-fdec-497d-aa31-cbebd8e099ed"
    },
    {
      "cell_type": "code",
      "execution_count": 4,
      "metadata": {
        "output-location": "column"
      },
      "outputs": [
        {
          "output_type": "stream",
          "name": "stdout",
          "text": [
            "rho(A) = 1.079128784747792\n",
            "x_200 = [3406689.32410673 6102361.18640516]"
          ]
        }
      ],
      "source": [
        "x_0 = np.array([1, 1])\n",
        "t = 200\n",
        "x_t = np.linalg.matrix_power(A, t) @ x_0\n",
        "rho_A = np.max(np.abs(eigvals(A)))\n",
        "print(f\"rho(A) = {rho_A}\")\n",
        "print(f\"x_{t} = {x_t}\")"
      ],
      "id": "de550312"
    },
    {
      "cell_type": "markdown",
      "metadata": {},
      "source": [
        "-   Diverges to\n",
        "    $x_{\\infty} = \\begin{bmatrix} \\infty & \\infty \\end{bmatrix}^T$\n",
        "-   $\\rho = 1 + 0.079$ says in the worst case (i.e., $x_t \\propto$ the\n",
        "    eigenvector associated with $\\lambda = 1.079$ eigenvalue), expands\n",
        "    by $7.9\\%$ on each iteration\n",
        "\n",
        "## Iterating with $\\rho(A) < 1$"
      ],
      "id": "e6de2748-c811-4d1d-85f8-a1045b49a14a"
    },
    {
      "cell_type": "code",
      "execution_count": 5,
      "metadata": {
        "output-location": "column"
      },
      "outputs": [
        {
          "output_type": "stream",
          "name": "stdout",
          "text": [
            "rho(A) = 0.9449489742783178\n",
            "x_200 = [6.03450418e-06 2.08159603e-05]"
          ]
        }
      ],
      "source": [
        "A = np.array([[0.6, 0.1], [0.5, 0.8]])\n",
        "x_t = np.linalg.matrix_power(A, t) @ x_0\n",
        "rho_A = np.max(np.abs(eigvals(A)))\n",
        "print(f\"rho(A) = {rho_A}\")\n",
        "print(f\"x_{t} = {x_t}\")"
      ],
      "id": "5ae192b4"
    },
    {
      "cell_type": "markdown",
      "metadata": {},
      "source": [
        "-   Converges to $x_{\\infty} = \\begin{bmatrix} 0 & 0 \\end{bmatrix}^T$\n",
        "\n",
        "## Iterating with $\\rho(A) = 1$\n",
        "\n",
        "-   To make a matrix that has $\\rho(A) = 1$ reverse eigendecomposition!\n",
        "-   Leave previous eigenvectors in $Q$, change $\\Lambda$ to force\n",
        "    $\\rho(A)$ directly"
      ],
      "id": "b735c857-7403-4b88-b23d-06f02ee7d5c4"
    },
    {
      "cell_type": "code",
      "execution_count": 6,
      "metadata": {},
      "outputs": [
        {
          "output_type": "stream",
          "name": "stdout",
          "text": [
            "check orthogonal: dot(x_1,x_2) approx 0: 0.0\n",
            "rho(A) = 1.0\n",
            "x_200 = [ 0.27639321 -0.17082039]"
          ]
        }
      ],
      "source": [
        "Q = np.array([[-0.85065081, -0.52573111], [0.52573111, -0.85065081]])\n",
        "print(f\"check orthogonal: dot(x_1,x_2) approx 0: {np.dot(Q[:,0], Q[:,1])}\")\n",
        "Lambda = [1.0, 0.8]  # choosing eigenvalue so max_n|lambda_n| = 1\n",
        "A = Q @ np.diag(Lambda) @ inv(Q)\n",
        "print(f\"rho(A) = {np.max(np.abs(eigvals(A)))}\")\n",
        "print(f\"x_{t} = {np.linalg.matrix_power(A, t) @ x_0}\")"
      ],
      "id": "0490df0d"
    },
    {
      "cell_type": "markdown",
      "metadata": {},
      "source": [
        "# Unemployment Dynamics\n",
        "\n",
        "## Dynamics of Employment without Population Growth\n",
        "\n",
        "-   Consider an economy where in a given year $\\alpha = 5\\%$ of employed\n",
        "    workers lose job and $\\phi = 10\\%$ of unemployed workers find a job\n",
        "-   We start with $E_0 = 900,000$ employed workers, $U_0 = 100,000$\n",
        "    unemployed workers, and no birth or death. Dynamics for the year:\n",
        "\n",
        "$$\n",
        "\\begin{aligned}\n",
        "E_{t+1} &= (1-\\alpha) E_t + \\phi U_t\\\\\n",
        "U_{t+1} &= \\alpha E_t + (1-\\phi) U_t\n",
        "\\end{aligned}\n",
        "$$\n",
        "\n",
        "## Write as Linear System\n",
        "\n",
        "-   Use matrices and vectors to write as a linear system\n",
        "\n",
        "$$\n",
        "\\underbrace{\\begin{bmatrix} E_{t+1}\\\\U_{t+1}\\end{bmatrix}}_{X_{t+1}} = \\underbrace{\\begin{bmatrix} 1-\\alpha & \\phi \\\\ \\alpha & 1-\\phi \\end{bmatrix}}_{ A} \\underbrace{\\begin{bmatrix} E_{t}\\\\U_{t}\\end{bmatrix}}_{X_t}\n",
        "$$\n",
        "\n",
        "## Simulating\n",
        "\n",
        "Simulate by iterating $X_{t+1} = A X_t$ from $X_0$ until $T=100$"
      ],
      "id": "e4ca1ac0-d7f0-41db-a98c-b5575978ccce"
    },
    {
      "cell_type": "code",
      "execution_count": 7,
      "metadata": {},
      "outputs": [
        {
          "output_type": "stream",
          "name": "stdout",
          "text": [
            "X_100 = [666666.6870779  333333.31292209]"
          ]
        }
      ],
      "source": [
        "def simulate(A, X_0, T):\n",
        "    X = np.zeros((2, T+1))\n",
        "    X[:,0] = X_0\n",
        "    for t in range(T):\n",
        "        X[:,t+1] = A @ X[:,t]\n",
        "    return X\n",
        "X_0 = np.array([900000, 100000])\n",
        "A = np.array([[0.95, 0.1], [0.05, 0.9]])\n",
        "T = 100\n",
        "X = simulate(A, X_0, T)\n",
        "print(f\"X_{T} = {X[:,T]}\")"
      ],
      "id": "b6e873cc"
    },
    {
      "cell_type": "markdown",
      "metadata": {},
      "source": [
        "## Dynamics of Unemployment"
      ],
      "id": "b3b58ae7-37d3-4280-a414-c382d054d8bd"
    },
    {
      "cell_type": "code",
      "execution_count": 8,
      "metadata": {
        "output-location": "column"
      },
      "outputs": [
        {
          "output_type": "display_data",
          "metadata": {},
          "data": {
            "image/png": "[encoded data removed]"
          }
        }
      ],
      "source": [
        "fig, ax = plt.subplots()\n",
        "ax.plot(range(T+1), X.T,\n",
        "  label=[\"Employed\", \"Unemployed\"])\n",
        "ax.set(xlabel=\"t\",\n",
        "  ylabel=\"Number of Workers\",\n",
        "  title=\"Employment Status\")\n",
        "ax.legend()\n",
        "plt.show()"
      ],
      "id": "8dbad448"
    },
    {
      "cell_type": "markdown",
      "metadata": {},
      "source": [
        "## Convergence to a Longrun Distribution\n",
        "\n",
        "-   Find $X_{\\infty}$ by iterating $X_{t+1} = A X_t$ many times from a\n",
        "    $X_0$?\n",
        "\n",
        "    -   Check if it has converged with $X_{\\infty} \\approx A X_{\\infty}$\n",
        "    -   Is $X_{\\infty}$ the same from any $X_0$? Will discuss\n",
        "        “ergodicity” later\n",
        "\n",
        "-   Alternatively, note that this expression is the same as\n",
        "\n",
        "    $$\n",
        "    1 \\times \\bar{X} = A \\bar{X}\n",
        "    $$\n",
        "\n",
        "    -   i.e, a $\\lambda = 1$ where $\\bar{X}$ is the corresponding\n",
        "        eigenvector of $A$\n",
        "    -   Is $\\lambda = 1$ always an eigenvalue? (yes if all\n",
        "        $\\sum_{n=1}^N A_{ni} = 1$ for all $i$)\n",
        "    -   Does $\\bar{X} = X_{\\infty}$? For any $X_0$?\n",
        "    -   Multiple eigenvalues with $\\lambda = 1 \\implies$ multiple\n",
        "        $\\bar{X}$\n",
        "\n",
        "## Using the First Eigenvector for the Steady State"
      ],
      "id": "8f3ec1c6-3097-41f2-ae7d-c9c64972aa9f"
    },
    {
      "cell_type": "code",
      "execution_count": 9,
      "metadata": {
        "output-location": "column"
      },
      "outputs": [
        {
          "output_type": "stream",
          "name": "stdout",
          "text": [
            "real eigenvalues = [1.   0.85]\n",
            "eigenvectors in columns of =\n",
            "[[ 0.89442719 -0.70710678]\n",
            " [ 0.4472136   0.70710678]]\n",
            "first eigenvalue = 1? True\n",
            "X_bar = [666666.66666667 333333.33333333]\n",
            "X_100 = [666666.6870779  333333.31292209]"
          ]
        }
      ],
      "source": [
        "Lambda, Q = eig(A)\n",
        "print(f\"real eigenvalues = {np.real(Lambda)}\")\n",
        "print(f\"eigenvectors in columns of =\\n{Q}\")\n",
        "print(f\"first eigenvalue = 1? \\\n",
        "{np.isclose(Lambda[0], 1.0)}\")\n",
        "X_bar = Q[:,0] / np.sum(Q[:,0]) * np.sum(X_0)\n",
        "print(f\"X_bar = {X_bar}\\nX_{T} = {X[:,T]}\")"
      ],
      "id": "d1068848"
    },
    {
      "cell_type": "markdown",
      "metadata": {},
      "source": [
        "## Using the Second Eigenvalue for the Convergence Speed\n",
        "\n",
        "-   The second largest ($\\lambda_2 < 1$) provides information on the\n",
        "    speed of convergence\n",
        "    -   $0$ is instantaneous convergence here\n",
        "    -   $1$ is no convergence here\n",
        "-   We will create a new matrix with the same steady state, different\n",
        "    speed\n",
        "    -   To do this, build a new matrix with the same eigenvectors (in\n",
        "        particular the same eigenvector associated with the $\\lambda=1$\n",
        "        eigenvalue)\n",
        "    -   But we will replace the eigenvalues\n",
        "        $\\begin{bmatrix}1.0 & 0.85\\end{bmatrix}$ with\n",
        "        $\\begin{bmatrix}1.0 & 0.5\\end{bmatrix}$\n",
        "    -   Then we will reconstruct $A$ matrix and simulate again\n",
        "-   Intuitively we will see the that the resulting $A_{\\text{fast}}$\n",
        "    implies $\\alpha$ and $\\phi$ which are larger by the same proportion\n",
        "\n",
        "## Simulating with Different Eigenvalues"
      ],
      "id": "a8da3129-09d0-4e0e-bd44-33293bedf8af"
    },
    {
      "cell_type": "code",
      "execution_count": 10,
      "metadata": {},
      "outputs": [
        {
          "output_type": "stream",
          "name": "stdout",
          "text": [
            "A_fast =\n",
            " [[0.8 0.4]\n",
            " [0.2 0.6]]\n",
            "alpha_fast/alpha = 4, phi_fast/phi = 4\n",
            "X_100 = [666666.66666667 333333.33333333]"
          ]
        }
      ],
      "source": [
        "Lambda_fast = np.array([1.0, 0.4])\n",
        "A_fast = Q @ np.diag(Lambda_fast) @ inv(Q) # same eigenvectors\n",
        "print(\"A_fast =\\n\", A_fast)\n",
        "print(f\"alpha_fast/alpha = {A_fast[1,0]/A[1,0]:.2g}, \\\n",
        "phi_fast/phi = {A_fast[0,1]/A[0,1]:.2g}\")\n",
        "X_fast = simulate(A_fast, X_0, T)\n",
        "print(f\"X_{T} = {X_fast[:,T]}\")"
      ],
      "id": "98c0c351"
    },
    {
      "cell_type": "markdown",
      "metadata": {},
      "source": [
        "## Convergence Dynamics of Unemployment"
      ],
      "id": "1e432ef3-a082-4ff6-b0d6-99d82c9b965e"
    },
    {
      "cell_type": "code",
      "execution_count": 11,
      "metadata": {},
      "outputs": [
        {
          "output_type": "display_data",
          "metadata": {},
          "data": {
            "image/png": "[encoded data removed]"
          }
        }
      ],
      "source": [
        "lambda_2_old = np.real(Lambda[1])\n",
        "lambda_2_new = Lambda_fast[1]\n",
        "fig, ax = plt.subplots(figsize=(6, 4))\n",
        "ax.plot(range(T+1), X.T, label=[rf\"Employed$(\\lambda_2={lambda_2_old})$\", rf\"Unemployed$(\\lambda_2={lambda_2_old})$\"])\n",
        "ax.plot(range(T+1), X_fast.T, label=[rf\"Employed$(\\lambda_2={lambda_2_new})$\", rf\"Unemployed$(\\lambda_2={lambda_2_new})$\"])\n",
        "ax.set(xlabel=\"t\", ylabel=\"Number of Workers\", title=\"Employment Status\")\n",
        "ax.legend()\n",
        "plt.show()"
      ],
      "id": "18f3e10d"
    },
    {
      "cell_type": "markdown",
      "metadata": {},
      "source": [
        "# Present Discounted Values\n",
        "\n",
        "## Geometric Series\n",
        "\n",
        "-   Assume dividends follow $y_{t+1} = G y_t$ for $t=0,1,\\ldots$ and\n",
        "    $y_0$ is given\n",
        "\n",
        "-   $G > 0$, dividends are discounted at factor $\\beta > 1$ then\n",
        "    $p_t = \\sum_{s=0}^{\\infty} \\beta^s y_{t+s} = \\frac{y_t}{1-\\beta G}$\n",
        "\n",
        "-   More generally if $x_{t+1} = A x_t$, $x_t \\in \\mathbb{R}^N$,\n",
        "    $y_t = G x_t$ and $A \\in \\mathbb{R}^{N \\times N}$, then\n",
        "\n",
        "    $$\n",
        "    \\begin{aligned}\n",
        "    p_t &= y_t + \\beta y_{t+1} + \\beta^2 y_{t+2} + \\ldots = G x_t + \\beta G A x_t + \\beta^2 G A A  x_t + \\ldots\\\\\n",
        "    &= \\sum_{s=0}^{\\infty} \\beta^s G A^s y_t\\\\\n",
        "    &= G (I - \\beta A)^{-1} x_t\\quad,\\text{ if } \\rho(A) < 1/\\beta\n",
        "    \\end{aligned}\n",
        "    $$\n",
        "\n",
        "-   where $\\rho(A)$ is the spectral radius\n",
        "\n",
        "## Discounting and the Spectral Radius\n",
        "\n",
        "-   Intuitively, the spectral radius of $A$, the maximum scaling, must\n",
        "    be less than discounting\n",
        "-   Intuition from univariate:\n",
        "    -   If $G \\in \\mathbb{R}^{1 \\times 1}$ then $\\text{eig}(G) = G$, so\n",
        "        must have $|\\beta G| < 1$\n",
        "\n",
        "## PDV Example\n",
        "\n",
        "Here is an example with $1 < \\rho(A) < 1/\\beta$. Try with different $A$"
      ],
      "id": "d1f226b0-4819-488a-9cca-eca70f0271d8"
    },
    {
      "cell_type": "code",
      "execution_count": 12,
      "metadata": {},
      "outputs": [
        {
          "output_type": "stream",
          "name": "stdout",
          "text": [
            "p_t = 24.43, spectral radius = 1.019, 1/beta = 1.111"
          ]
        }
      ],
      "source": [
        "beta = 0.9\n",
        "A = np.array([[0.85, 0.1], [0.2, 0.9]])\n",
        "G = np.array([[1.0, 1.0]]) # row vector\n",
        "x_0 = np.array([1.0, 1.0])\n",
        "p_t = G @ solve(np.eye(2) - beta * A, x_0)\n",
        "#p_t = G @ inv(np.eye(2) - beta * A) @ x_0 # alternative\n",
        "rho_A = np.max(np.abs(np.real(eigvals(A))))\n",
        "print(f\"p_t = {p_t[0]:.4g}, spectral radius = {rho_A:.4g}, 1/beta = {1/beta:.4g}\")"
      ],
      "id": "d1c0c538"
    },
    {
      "cell_type": "markdown",
      "metadata": {},
      "source": [
        "# (Optional) Matrix Conditioning and Stability\n",
        "\n",
        "## Matrix Conditioning\n",
        "\n",
        "-   Poorly conditioned matrices can lead to inaccurate or wrong\n",
        "    solutions\n",
        "-   Tends to happen when matrices are close to singular or when they\n",
        "    have very different scales - so there will be times when you need to\n",
        "    rescale your problems"
      ],
      "id": "5e766a4c-63f7-41c8-9fa5-b8827420bf58"
    },
    {
      "cell_type": "code",
      "execution_count": 13,
      "metadata": {},
      "outputs": [
        {
          "output_type": "stream",
          "name": "stdout",
          "text": [
            "A =\n",
            "[[1.        1.       ]\n",
            " [1.0000001 1.       ]]\n",
            "A^-1 =\n",
            "[[-9999999.99336215  9999999.99336215]\n",
            " [10000000.99336215 -9999999.99336215]]"
          ]
        }
      ],
      "source": [
        "eps = 1e-7\n",
        "A = np.array([[1, 1], [1 + eps, 1]])\n",
        "print(f\"A =\\n{A}\")\n",
        "print(f\"A^{-1} =\\n{inv(A)}\")"
      ],
      "id": "a82e9209"
    },
    {
      "cell_type": "markdown",
      "metadata": {},
      "source": [
        "## Condition Numbers of Matrices\n",
        "\n",
        "-   $\\det(A) \\approx 0$ may say it is “almost” singular, but it is not\n",
        "    scale-invariant\n",
        "-   $\\text{cond}(A) \\equiv ||A|| \\cdot ||A^{-1}||$ where $||\\cdot||$ is\n",
        "    the matrix norm - expensive to calculate in practice. Connected to\n",
        "    eigenvalues $\\text{cond}(A) = |\\frac{\\lambda_{max}}{\\lambda_{min}}|$\n",
        "-   Scale free measure of numerical issues for a variety of matrix\n",
        "    operations\n",
        "-   Intuition: if $\\text{cond}(A) = K$, then $b \\to b + \\nabla b$ change\n",
        "    in $b$ amplifies to a $x \\to x + K \\nabla b$ error when solving\n",
        "    $A x = b$.\n",
        "-   See [Matlab Docs on\n",
        "    inv](https://www.mathworks.com/help/matlab/ref/inv.html#bu6sfy8-1)\n",
        "    for example, where `inv` is a bad idea due to poor conditioning"
      ],
      "id": "d346a1da-3f9f-43a5-9532-3d69b955d135"
    },
    {
      "cell_type": "code",
      "execution_count": 14,
      "metadata": {},
      "outputs": [
        {
          "output_type": "stream",
          "name": "stdout",
          "text": [
            "condition(I) = 1.0\n",
            "condition(A) = 40000001.962777555, condition(A^(-1)) = 40000002.02779216"
          ]
        }
      ],
      "source": [
        "print(f\"condition(I) = {cond(np.eye(2))}\")\n",
        "print(f\"condition(A) = {cond(A)}, condition(A^(-1)) = {cond(inv(A))}\")"
      ],
      "id": "f39a6752"
    },
    {
      "cell_type": "markdown",
      "metadata": {},
      "source": [
        "## Example with Interpolation\n",
        "\n",
        "-   Consider fitting data $x\\in\\mathbb{R}^{N+1}$ and\n",
        "    $y\\in\\mathbb{R}^{N+1}$ with an $N$-degree polynomial\n",
        "-   That is, find $c \\in \\mathbb{R}^{N+1}$ such that\n",
        "\n",
        "$$\n",
        "\\begin{aligned}\n",
        "c_0 + c_1 x_1 + c_2 x_1^2 + \\ldots + c_N x_1^N &= y_1\\\\\n",
        "\\dots &= \\dots\\\\\n",
        "c_0 + c_1 x_N + c_2 x_N^2 + \\ldots + c_N x_N^N &= y_N\\\\\n",
        "\\end{aligned}\n",
        "$$\n",
        "\n",
        "-   Which we can then use as $P(x) = \\sum_{n=0}^N c_n x^n$ to\n",
        "    interpolate between the points\n",
        "\n",
        "## Writing as a Linear System\n",
        "\n",
        "-   Define a matrix of all of the powers of the $x$ values\n",
        "\n",
        "$$\n",
        "A \\equiv \\begin{bmatrix}\n",
        "1 & x_0 & x_0^2 & \\ldots & x_0^N\\\\\n",
        "\\vdots & \\vdots &\\vdots & \\vdots & \\vdots\\\\\n",
        "1 & x_N & x_N^2 & \\ldots & x_N^N\n",
        "\\end{bmatrix}\n",
        "$$\n",
        "\n",
        "-   Then solve for $c$ as the solution (where $A$ is invertible if $x_n$\n",
        "    are unique)\n",
        "\n",
        "$$\n",
        "A c = y\n",
        "$$\n",
        "\n",
        "## Solving an Example\n",
        "\n",
        "-   Let’s look at the numerical error here from the interpolation using\n",
        "    the inf-norm, i.e., $||x||_{\\infty} = \\max_n |x_n|$"
      ],
      "id": "e27fb5c1-d2c2-497e-8415-489b9586e499"
    },
    {
      "cell_type": "code",
      "execution_count": 15,
      "metadata": {},
      "outputs": [
        {
          "output_type": "stream",
          "name": "stdout",
          "text": [
            "error = 1.574562702444382e-11, error using inv(A) = 1.1932570487260818e-09\n",
            "cond(A) = 564652.3214000753"
          ]
        }
      ],
      "source": [
        "N = 5\n",
        "x = np.linspace(0.0, 10.0, N + 1)\n",
        "y = np.exp(x)  # example function to interpolate\n",
        "A = np.array([[x_i**n for n in range(N + 1)] for x_i in x])  # or np.vander\n",
        "c = solve(A, y)\n",
        "c_inv = inv(A) @ y\n",
        "print(f\"error = {norm(A @ c - y, np.inf)}, \\\n",
        "error using inv(A) = {norm(A @ c_inv - y, np.inf)}\")\n",
        "print(f\"cond(A) = {cond(A)}\")"
      ],
      "id": "b69b33a0"
    },
    {
      "cell_type": "markdown",
      "metadata": {},
      "source": [
        "## Things Getting Poorly Conditioned Quickly"
      ],
      "id": "cd2e643e-5e40-4569-9fa8-b5b6c70ddf98"
    },
    {
      "cell_type": "code",
      "execution_count": 16,
      "metadata": {},
      "outputs": [
        {
          "output_type": "stream",
          "name": "stdout",
          "text": [
            "error = 5.334186425898224e-10, error using inv(A) = 6.22717197984457e-06\n",
            "cond(A) = 4462824600195.809"
          ]
        }
      ],
      "source": [
        "N = 10\n",
        "x = np.linspace(0.0, 10.0, N + 1)\n",
        "y = np.exp(x)  # example function to interpolate\n",
        "A = np.array([[x_i**n for n in range(N + 1)] for x_i in x])  # or np.vander\n",
        "c = solve(A, y)\n",
        "c_inv = inv(A) @ y # Solving with inv(A) instead of solve(A, y)\n",
        "print(f\"error = {norm(A @ c - y, np.inf)}, \\\n",
        "error using inv(A) = {norm(A @ c_inv - y, np.inf)}\")\n",
        "print(f\"cond(A) = {cond(A)}\")"
      ],
      "id": "a581294e"
    },
    {
      "cell_type": "markdown",
      "metadata": {},
      "source": [
        "## Matrix Inverses Fail Completely for $N = 20$"
      ],
      "id": "b10e60ba-0295-4e58-9925-c54beb265747"
    },
    {
      "cell_type": "code",
      "execution_count": 17,
      "metadata": {},
      "outputs": [
        {
          "output_type": "stream",
          "name": "stdout",
          "text": [
            "error = 8.36735125631094e-10, error using inv(A) = 1419.6725472353137\n",
            "cond(A) = 2.938e+24"
          ]
        },
        {
          "output_type": "stream",
          "name": "stderr",
          "text": [
            "/home/runner/work/grad_econ_datascience/grad_econ_datascience/.venv/lib/python3.13/site-packages/scipy/_lib/_util.py:1233: LinAlgWarning: Ill-conditioned matrix (rcond=6.72948e-28): result may not be accurate.\n",
            "  return f(*arrays, *other_args, **kwargs)"
          ]
        }
      ],
      "source": [
        "N = 20\n",
        "x = np.linspace(0.0, 10.0, N + 1)\n",
        "y = np.exp(x)  # example function to interpolate\n",
        "A = np.array([[x_i**n for n in range(N + 1)] for x_i in x])  # or np.vander\n",
        "c = solve(A, y)\n",
        "c_inv = inv(A) @ y # Solving with inv(A) instead of solve(A, y)\n",
        "print(f\"error = {norm(A @ c - y, np.inf)}, \\\n",
        "error using inv(A) = {norm(A @ c_inv - y, np.inf)}\")\n",
        "print(f\"cond(A) = {cond(A):.4g}\")"
      ],
      "id": "db234412"
    },
    {
      "cell_type": "markdown",
      "metadata": {},
      "source": [
        "## Moral of this Story\n",
        "\n",
        "-   Use `solve`, which is faster and can often solve ill-conditioned\n",
        "    problems. Rarely use `inv`, and only when you know the problem is\n",
        "    well-conditioned\n",
        "-   Check conditioning of matrices when doing numerical work as an\n",
        "    occasional diagnostic, as it is a good indicator of potential\n",
        "    problems and collinearity\n",
        "-   For approximation, never use a monomial basis for polynomials\n",
        "    -   Prefer polynomials like Chebyshev, which are designed to be as\n",
        "        orthogonal as possible"
      ],
      "id": "69483886-f23e-44e6-92af-57e3539343fa"
    },
    {
      "cell_type": "code",
      "execution_count": 18,
      "metadata": {},
      "outputs": [
        {
          "output_type": "stream",
          "name": "stdout",
          "text": [
            "cond(A) = 3.64e+09, cond(A_monomial) = 5.311e+17"
          ]
        }
      ],
      "source": [
        "N = 40\n",
        "x = np.linspace(-1, 1, N+1)  # Or any other range of x values\n",
        "A = np.array([[np.polynomial.Chebyshev.basis(n)(x_i) for n in range(N+1)] for x_i in x])\n",
        "A_monomial = np.array([[x_i**n for n in range(N + 1)] for x_i in x])  # or np.vander\n",
        "print(f\"cond(A) = {cond(A):.4g}, cond(A_monomial) = {cond(A_monomial):.4g}\")"
      ],
      "id": "4fe70212"
    }
  ],
  "nbformat": 4,
  "nbformat_minor": 5,
  "metadata": {
    "kernelspec": {
      "name": "python3",
      "display_name": "Python 3 (ipykernel)",
      "language": "python",
      "path": "/home/runner/work/grad_econ_datascience/grad_econ_datascience/.venv/share/jupyter/kernels/python3"
    },
    "language_info": {
      "name": "python",
      "codemirror_mode": {
        "name": "ipython",
        "version": "3"
      },
      "file_extension": ".py",
      "mimetype": "text/x-python",
      "nbconvert_exporter": "python",
      "pygments_lexer": "ipython3",
      "version": "3.13.7"
    }
  }
}